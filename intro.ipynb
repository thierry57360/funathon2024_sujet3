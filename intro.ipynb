{
 "cells": [
  {
   "cell_type": "code",
   "execution_count": 21,
   "metadata": {},
   "outputs": [],
   "source": [
    "from FlightRadar24 import FlightRadar24API\n",
    "import pytz\n",
    "fr_api = FlightRadar24API()"
   ]
  },
  {
   "cell_type": "code",
   "execution_count": 2,
   "metadata": {},
   "outputs": [
    {
     "name": "stdout",
     "output_type": "stream",
     "text": [
      "Il y a 2145 compagnies aériennes différentes dont on peut récupérer les vols.\n"
     ]
    }
   ],
   "source": [
    "airlines = fr_api.get_airlines()\n",
    "print(f\"Il y a {len(airlines)} compagnies aériennes différentes dont on peut récupérer les vols.\")"
   ]
  },
  {
   "cell_type": "code",
   "execution_count": 4,
   "metadata": {},
   "outputs": [
    {
     "name": "stdout",
     "output_type": "stream",
     "text": [
      "Il y a 9 zones différentes, dont les zones 'europe', 'northamerica', 'southamerica', etc.\n"
     ]
    }
   ],
   "source": [
    "zones = fr_api.get_zones().keys()\n",
    "zones = list(zones)\n",
    "print(f\"Il y a {len(zones)} zones différentes, dont les zones '{zones[0]}', '{zones[1]}', '{zones[2]}', etc.\")"
   ]
  },
  {
   "cell_type": "code",
   "execution_count": 24,
   "metadata": {},
   "outputs": [
    {
     "name": "stdout",
     "output_type": "stream",
     "text": [
      "11 aéronefs B77W d'Air France sont actuellement en activité en Europe.\n"
     ]
    }
   ],
   "source": [
    "airline_icao = \"AFR\"\n",
    "aircraft_type = \"B77W\"\n",
    "\n",
    "zone = fr_api.get_zones()[\"europe\"]\n",
    "bounds = fr_api.get_bounds(zone)\n",
    "\n",
    "afr_flights = fr_api.get_flights(\n",
    "    aircraft_type = aircraft_type,\n",
    "    airline = airline_icao,\n",
    "    bounds = bounds\n",
    ")\n",
    "print(f\"{len(afr_flights)} aéronefs B77W d'Air France sont actuellement en activité en Europe.\")"
   ]
  },
  {
   "cell_type": "code",
   "execution_count": 28,
   "metadata": {},
   "outputs": [
    {
     "name": "stdout",
     "output_type": "stream",
     "text": [
      "Informations récupérées sur 9 vols.\n"
     ]
    }
   ],
   "source": [
    "flight_tracker = fr_api.get_flight_tracker_config()\n",
    "flight_tracker.limit = 9\n",
    "fr_api.set_flight_tracker_config(flight_tracker)\n",
    "\n",
    "flights = fr_api.get_flights()\n",
    "print(f\"Informations récupérées sur {len(flights)} vols.\")"
   ]
  },
  {
   "cell_type": "code",
   "execution_count": 29,
   "metadata": {},
   "outputs": [
    {
     "data": {
      "text/plain": [
       "[<(BALL) N251TH - Altitude: 62300 - Ground Speed: 18 - Heading: 250>,\n",
       " <(BALL) N871TH - Altitude: 57100 - Ground Speed: 17 - Heading: 263>,\n",
       " <(BALL) N252TH - Altitude: 57900 - Ground Speed: 5 - Heading: 11>,\n",
       " <(TRIN) HA-8107 - Altitude: 898 - Ground Speed: 1 - Heading: 180>,\n",
       " <(AT5T) N502KF - Altitude: 0 - Ground Speed: 122 - Heading: 298>,\n",
       " <(B77L) VT-AEI - Altitude: 0 - Ground Speed: 0 - Heading: 149>,\n",
       " <(GLID) TEST-7 - Altitude: 426 - Ground Speed: 0 - Heading: 271>,\n",
       " <(ALGR) F-JGSI - Altitude: 298 - Ground Speed: 0 - Heading: 180>,\n",
       " <(B789) B-1357 - Altitude: 36200 - Ground Speed: 470 - Heading: 205>]"
      ]
     },
     "execution_count": 29,
     "metadata": {},
     "output_type": "execute_result"
    }
   ],
   "source": [
    "flights"
   ]
  },
  {
   "cell_type": "code",
   "execution_count": 30,
   "metadata": {},
   "outputs": [
    {
     "name": "stdout",
     "output_type": "stream",
     "text": [
      "id du vol: 35cc013d\n",
      "numéro de vol: \n",
      "vitesse au sol: 31 Km/h\n",
      "vitesse verticale: 0 Km/h\n",
      "altitude: 17404 mètres\n",
      "pays de départ: N/A\n",
      "code de l'aéroport de départ: N/A\n",
      "aéroport de départ: N/A\n",
      "terminal de départ: N/A\n",
      "pays d'arrivée: N/A\n",
      "code de l'aéroport d'arrivée: N/A\n",
      "aéroport d'arrivée: N/A\n",
      "terminal d'arrivée: N/A\n"
     ]
    },
    {
     "ename": "NameError",
     "evalue": "name 'datetime' is not defined",
     "output_type": "error",
     "traceback": [
      "\u001b[0;31m---------------------------------------------------------------------------\u001b[0m",
      "\u001b[0;31mNameError\u001b[0m                                 Traceback (most recent call last)",
      "Cell \u001b[0;32mIn[30], line 28\u001b[0m\n\u001b[1;32m     25\u001b[0m paris_tz \u001b[38;5;241m=\u001b[39m pytz\u001b[38;5;241m.\u001b[39mtimezone(\u001b[38;5;124m\"\u001b[39m\u001b[38;5;124mEurope/Paris\u001b[39m\u001b[38;5;124m\"\u001b[39m)\n\u001b[1;32m     27\u001b[0m \u001b[38;5;66;03m# pour l'heure d'arrivée estimée\u001b[39;00m\n\u001b[0;32m---> 28\u001b[0m estimated_arrival_paris \u001b[38;5;241m=\u001b[39m \u001b[43mdatetime\u001b[49m\u001b[38;5;241m.\u001b[39mdatetime\u001b[38;5;241m.\u001b[39mfromtimestamp(arrival_time)\n\u001b[1;32m     29\u001b[0m estimated_arrival_paris \u001b[38;5;241m=\u001b[39m estimated_arrival_paris\u001b[38;5;241m.\u001b[39mastimezone(paris_tz)\n\u001b[1;32m     30\u001b[0m \u001b[38;5;28mprint\u001b[39m(\u001b[38;5;124mf\u001b[39m\u001b[38;5;124m\"\u001b[39m\u001b[38;5;124mheure d\u001b[39m\u001b[38;5;124m'\u001b[39m\u001b[38;5;124marrivée estimée: \u001b[39m\u001b[38;5;132;01m{\u001b[39;00mestimated_arrival_paris\u001b[38;5;132;01m}\u001b[39;00m\u001b[38;5;124m\"\u001b[39m)\n",
      "\u001b[0;31mNameError\u001b[0m: name 'datetime' is not defined"
     ]
    }
   ],
   "source": [
    "flight_af = flights[1]\n",
    "flight_details = fr_api.get_flight_details(flight_af)\n",
    "\n",
    "flight_af.set_flight_details(flight_details)\n",
    "print(f\"id du vol: {flight_af.id}\")\n",
    "print(f\"numéro de vol: {flight_af.number}\")\n",
    "print(f\"vitesse au sol: {round(flight_af.ground_speed * 1.852)} Km/h\")\n",
    "print(f\"vitesse verticale: {round(flight_af.vertical_speed * 1.852)} Km/h\")\n",
    "print(f\"altitude: {round(flight_af.altitude * 0.3048)} mètres\")\n",
    "\n",
    "print(f\"pays de départ: {flight_af.origin_airport_country_name}\")\n",
    "print(f\"code de l'aéroport de départ: {flight_af.origin_airport_icao}\")\n",
    "print(f\"aéroport de départ: {flight_af.origin_airport_name}\")\n",
    "print(f\"terminal de départ: {flight_af.origin_airport_terminal}\")\n",
    "\n",
    "print(f\"pays d'arrivée: {flight_af.destination_airport_country_name}\")\n",
    "print(f\"code de l'aéroport d'arrivée: {flight_af.destination_airport_icao}\")\n",
    "print(f\"aéroport d'arrivée: {flight_af.destination_airport_name}\")\n",
    "print(f\"terminal d'arrivée: {flight_af.destination_airport_terminal}\")\n",
    "\n",
    "arrival_time = flight_af.time_details[\"estimated\"][\"arrival\"]\n",
    "scheduled_arrival_time = flight_af.time_details[\"scheduled\"][\"arrival\"]\n",
    "\n",
    "### conversion du fuseau horaire\n",
    "paris_tz = pytz.timezone(\"Europe/Paris\")\n",
    "\n",
    "# pour l'heure d'arrivée estimée\n",
    "estimated_arrival_paris = datetime.datetime.fromtimestamp(arrival_time)\n",
    "estimated_arrival_paris = estimated_arrival_paris.astimezone(paris_tz)\n",
    "print(f\"heure d'arrivée estimée: {estimated_arrival_paris}\")\n",
    "\n",
    "# pour l'heure d'arrivée retardée\n",
    "scheduled_arrival_time = datetime.datetime.fromtimestamp(scheduled_arrival_time)\n",
    "scheduled_arrival_time = scheduled_arrival_time.astimezone(paris_tz)\n",
    "print(f\"heure d'arrivée retardée: {scheduled_arrival_time}\")\n",
    "\n",
    "# nombre de kilométres restants\n",
    "airport_destination_icao = flight_af.destination_airport_icao\n",
    "airport_destination = fr_api.get_airport(airport_destination_icao)\n",
    "distance = flight.get_distance_from(airport_destination)\n",
    "print(f\"distance à parcourir: {round(distance)} Km\")"
   ]
  }
 ],
 "metadata": {
  "kernelspec": {
   "display_name": "base",
   "language": "python",
   "name": "python3"
  },
  "language_info": {
   "codemirror_mode": {
    "name": "ipython",
    "version": 3
   },
   "file_extension": ".py",
   "mimetype": "text/x-python",
   "name": "python",
   "nbconvert_exporter": "python",
   "pygments_lexer": "ipython3",
   "version": "3.12.3"
  }
 },
 "nbformat": 4,
 "nbformat_minor": 2
}
