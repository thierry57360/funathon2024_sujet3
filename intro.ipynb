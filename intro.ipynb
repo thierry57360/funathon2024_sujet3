{
 "cells": [
  {
   "cell_type": "code",
   "execution_count": null,
   "metadata": {},
   "outputs": [],
   "source": [
    "from FlightRadar24 import FlightRadar24API\n",
    "fr_api = FlightRadar24API()"
   ]
  },
  {
   "cell_type": "code",
   "execution_count": null,
   "metadata": {},
   "outputs": [
    {
     "name": "stdout",
     "output_type": "stream",
     "text": [
      "Il y a 2145 compagnies aériennes différentes dont on peut récupérer les vols.\n"
     ]
    }
   ],
   "source": [
    "airlines = fr_api.get_airlines()\n",
    "print(f\"Il y a {len(airlines)} compagnies aériennes différentes dont on peut récupérer les vols.\")"
   ]
  },
  {
   "cell_type": "code",
   "execution_count": null,
   "metadata": {},
   "outputs": [
    {
     "name": "stdout",
     "output_type": "stream",
     "text": [
      "Il y a 9 zones différentes, dont les zones 'europe', 'northamerica', 'southamerica', etc.\n"
     ]
    }
   ],
   "source": [
    "airlines = fr_api.get_airlines()\n",
    "print(f\"Il y a {len(airlines)} compagnies aériennes différentes dont on peut récupérer les vols.\")"
   ]
  },
  {
   "cell_type": "code",
   "execution_count": null,
   "metadata": {},
   "outputs": [],
   "source": [
    "airline_icao = \"AFR\"\n",
    "aircraft_type = \"B77W\"\n",
    "\n",
    "zone = fr_api.get_zones()[\"europe\"]\n",
    "bounds = fr_api.get_bounds(zone)\n",
    "\n",
    "afr_flights = fr_api.get_flights(\n",
    "    aircraft_type = aircraft_type,\n",
    "    airline = airline_icao,\n",
    "    bounds = bounds\n",
    ")\n",
    "print(f\"{len(afr_flights)} aéronefs B77W d'Air France sont actuellement en activité en Europe.\")"
   ]
  },
  {
   "cell_type": "code",
   "execution_count": null,
   "metadata": {},
   "outputs": [],
   "source": [
    "airline_icao = \"AFR\"\n",
    "aircraft_type = \"B77W\"\n",
    "\n",
    "zone = fr_api.get_zones()[\"europe\"]\n",
    "bounds = fr_api.get_bounds(zone)\n",
    "\n",
    "afr_flights = fr_api.get_flights(\n",
    "    aircraft_type = aircraft_type,\n",
    "    airline = airline_icao,\n",
    "    bounds = bounds\n",
    ")\n",
    "print(f\"{len(afr_flights)} aéronefs B77W d'Air France sont actuellement en activité en Europe.\")"
   ]
  },
  {
   "cell_type": "code",
   "execution_count": null,
   "metadata": {},
   "outputs": [],
   "source": [
    "flight_tracker = fr_api.get_flight_tracker_config()\n",
    "flight_tracker.limit = 5\n",
    "fr_api.set_flight_tracker_config(flight_tracker)\n",
    "\n",
    "flights = fr_api.get_flights()\n",
    "print(f\"Informations récupérées sur {len(flights)} vols.\")"
   ]
  },
  {
   "cell_type": "code",
   "execution_count": null,
   "metadata": {},
   "outputs": [],
   "source": [
    "flight = flights[0]\n",
    "flight_details = fr_api.get_flight_details(flight)\n",
    "flight.set_flight_details(flight_details)\n",
    "print(\n",
    "  f\"Le vol {flight.id} au départ de l'aéroport {flight.origin_airport_name} \"\n",
    "  f\"et à destination de {flight.destination_airport_name} se déplace à une vitesse \"\n",
    "  f\"de {flight.ground_speed} noeuds.\"\n",
    ")\n",
    "print(\n",
    "  f\"L'appareil est un aéronef {flight.aircraft_code} de la compagnie {flight.airline_icao}.\"\n",
    ")"
   ]
  }
 ],
 "metadata": {
  "kernelspec": {
   "display_name": "base",
   "language": "python",
   "name": "python3"
  },
  "language_info": {
   "codemirror_mode": {
    "name": "ipython",
    "version": 3
   },
   "file_extension": ".py",
   "mimetype": "text/x-python",
   "name": "python",
   "nbconvert_exporter": "python",
   "pygments_lexer": "ipython3",
   "version": "3.12.3"
  }
 },
 "nbformat": 4,
 "nbformat_minor": 2
}
