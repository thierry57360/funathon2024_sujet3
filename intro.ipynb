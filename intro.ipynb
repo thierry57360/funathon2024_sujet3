{
 "cells": [
  {
   "cell_type": "code",
   "execution_count": 9,
   "metadata": {},
   "outputs": [],
   "source": [
    "from FlightRadar24 import FlightRadar24API\n",
    "import pytz\n",
    "import datetime\n",
    "fr_api = FlightRadar24API()"
   ]
  },
  {
   "cell_type": "code",
   "execution_count": 2,
   "metadata": {},
   "outputs": [
    {
     "name": "stdout",
     "output_type": "stream",
     "text": [
      "Il y a 2145 compagnies aériennes différentes dont on peut récupérer les vols.\n"
     ]
    }
   ],
   "source": [
    "airlines = fr_api.get_airlines()\n",
    "print(f\"Il y a {len(airlines)} compagnies aériennes différentes dont on peut récupérer les vols.\")"
   ]
  },
  {
   "cell_type": "code",
   "execution_count": 32,
   "metadata": {},
   "outputs": [
    {
     "name": "stdout",
     "output_type": "stream",
     "text": [
      "Il y a 9 zones différentes, dont les zones 'europe', 'northamerica', 'southamerica', etc.\n"
     ]
    }
   ],
   "source": [
    "zones = fr_api.get_zones().keys()\n",
    "zones = list(zones)\n",
    "print(f\"Il y a {len(zones)} zones différentes, dont les zones '{zones[0]}', '{zones[1]}', '{zones[2]}', etc.\")"
   ]
  },
  {
   "cell_type": "code",
   "execution_count": 5,
   "metadata": {},
   "outputs": [
    {
     "name": "stdout",
     "output_type": "stream",
     "text": [
      "13 aéronefs B77W d'Air France sont actuellement en activité en Europe.\n"
     ]
    }
   ],
   "source": [
    "airline_icao = \"AFR\"\n",
    "aircraft_type = \"B77W\"\n",
    "\n",
    "zone = fr_api.get_zones()[\"europe\"]\n",
    "bounds = fr_api.get_bounds(zone)\n",
    "\n",
    "afr_flights = fr_api.get_flights(\n",
    "    aircraft_type = aircraft_type,\n",
    "    airline = airline_icao,\n",
    "    bounds = bounds\n",
    ")\n",
    "print(f\"{len(afr_flights)} aéronefs B77W d'Air France sont actuellement en activité en Europe.\")"
   ]
  },
  {
   "cell_type": "code",
   "execution_count": 33,
   "metadata": {},
   "outputs": [
    {
     "name": "stdout",
     "output_type": "stream",
     "text": [
      "Informations récupérées sur 5 vols.\n",
      "[<(B77W) F-GSQE - Altitude: 36000 - Ground Speed: 514 - Heading: 284>, <(B77W) F-GZNJ - Altitude: 36000 - Ground Speed: 458 - Heading: 303>, <(B77W) F-GSQY - Altitude: 34000 - Ground Speed: 455 - Heading: 280>, <(B77W) F-GSQF - Altitude: 34000 - Ground Speed: 479 - Heading: 255>, <(B77W) F-GSQP - Altitude: 34000 - Ground Speed: 469 - Heading: 249>]\n"
     ]
    }
   ],
   "source": [
    "flight_tracker = fr_api.get_flight_tracker_config()\n",
    "flight_tracker.limit = 5\n",
    "fr_api.set_flight_tracker_config(flight_tracker)\n",
    "\n",
    "flights = fr_api.get_flights(    aircraft_type = aircraft_type,\n",
    "    airline = airline_icao,\n",
    "    bounds = bounds)\n",
    "print(f\"Informations récupérées sur {len(flights)} vols.\")\n",
    "print(flights)"
   ]
  },
  {
   "cell_type": "code",
   "execution_count": 34,
   "metadata": {},
   "outputs": [
    {
     "name": "stdout",
     "output_type": "stream",
     "text": [
      "<(B77W) F-GSQE - Altitude: 36000 - Ground Speed: 514 - Heading: 284>\n",
      "Paris Charles de Gaulle Airport\n"
     ]
    }
   ],
   "source": [
    "flight_af = flights[0]\n",
    "flight_details = fr_api.get_flight_details(flight_af)\n",
    "flight_af.set_flight_details(flight_details)\n",
    "print(flight_af)\n",
    "print(flight_af.destination_airport_name)"
   ]
  },
  {
   "cell_type": "code",
   "execution_count": 36,
   "metadata": {},
   "outputs": [
    {
     "name": "stdout",
     "output_type": "stream",
     "text": [
      "id du vol: 35d71874\n",
      "numéro de vol: AF199\n",
      "vitesse au sol: 848 Km/h\n",
      "vitesse verticale: 0 Km/h\n",
      "altitude: 10973 mètres\n",
      "pays de départ: Thailand\n",
      "code de l'aéroport de départ: VTBS\n",
      "aéroport de départ: Bangkok Suvarnabhumi Airport\n",
      "terminal de départ: N/A\n",
      "pays d'arrivée: France\n",
      "code de l'aéroport d'arrivée: LFPG\n",
      "aéroport d'arrivée: Paris Charles de Gaulle Airport\n",
      "terminal d'arrivée: 2E\n",
      "heure d'arrivée estimée: 2024-06-25 18:40:32+02:00\n",
      "heure d'arrivée retardée: 2024-06-25 18:50:00+02:00\n",
      "distance à parcourir: 1789 Km\n"
     ]
    }
   ],
   "source": [
    "flight_af = flights[1]\n",
    "flight_details = fr_api.get_flight_details(flight_af)\n",
    "\n",
    "flight_af.set_flight_details(flight_details)\n",
    "print(f\"id du vol: {flight_af.id}\")\n",
    "print(f\"numéro de vol: {flight_af.number}\")\n",
    "print(f\"vitesse au sol: {round(flight_af.ground_speed * 1.852)} Km/h\")\n",
    "print(f\"vitesse verticale: {round(flight_af.vertical_speed * 1.852)} Km/h\")\n",
    "print(f\"altitude: {round(flight_af.altitude * 0.3048)} mètres\")\n",
    "\n",
    "print(f\"pays de départ: {flight_af.origin_airport_country_name}\")\n",
    "print(f\"code de l'aéroport de départ: {flight_af.origin_airport_icao}\")\n",
    "print(f\"aéroport de départ: {flight_af.origin_airport_name}\")\n",
    "print(f\"terminal de départ: {flight_af.origin_airport_terminal}\")\n",
    "\n",
    "print(f\"pays d'arrivée: {flight_af.destination_airport_country_name}\")\n",
    "print(f\"code de l'aéroport d'arrivée: {flight_af.destination_airport_icao}\")\n",
    "print(f\"aéroport d'arrivée: {flight_af.destination_airport_name}\")\n",
    "print(f\"terminal d'arrivée: {flight_af.destination_airport_terminal}\")\n",
    "\n",
    "arrival_time = flight_af.time_details[\"estimated\"][\"arrival\"]\n",
    "scheduled_arrival_time = flight_af.time_details[\"scheduled\"][\"arrival\"]\n",
    "\n",
    "### conversion du fuseau horaire\n",
    "paris_tz = pytz.timezone(\"Europe/Paris\")\n",
    "\n",
    "# pour l'heure d'arrivée estimée\n",
    "estimated_arrival_paris = datetime.datetime.fromtimestamp(arrival_time)\n",
    "estimated_arrival_paris = estimated_arrival_paris.astimezone(paris_tz)\n",
    "print(f\"heure d'arrivée estimée: {estimated_arrival_paris}\")\n",
    "\n",
    "# pour l'heure d'arrivée retardée\n",
    "scheduled_arrival_time = datetime.datetime.fromtimestamp(scheduled_arrival_time)\n",
    "scheduled_arrival_time = scheduled_arrival_time.astimezone(paris_tz)\n",
    "print(f\"heure d'arrivée retardée: {scheduled_arrival_time}\")\n",
    "\n",
    "# nombre de kilométres restants\n",
    "airport_destination_icao = flight_af.destination_airport_icao\n",
    "airport_destination = fr_api.get_airport(airport_destination_icao)\n",
    "distance = flight_af.get_distance_from(airport_destination)\n",
    "print(f\"distance à parcourir: {round(distance)} Km\")"
   ]
  }
 ],
 "metadata": {
  "kernelspec": {
   "display_name": "base",
   "language": "python",
   "name": "python3"
  },
  "language_info": {
   "codemirror_mode": {
    "name": "ipython",
    "version": 3
   },
   "file_extension": ".py",
   "mimetype": "text/x-python",
   "name": "python",
   "nbconvert_exporter": "python",
   "pygments_lexer": "ipython3",
   "version": "3.12.3"
  }
 },
 "nbformat": 4,
 "nbformat_minor": 2
}
